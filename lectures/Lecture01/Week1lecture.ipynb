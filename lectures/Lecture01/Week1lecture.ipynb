{
 "cells": [
  {
   "cell_type": "markdown",
   "id": "c62be005-704d-4632-b39b-d794298ae1cf",
   "metadata": {},
   "source": [
    "# Week 1 - Lecture - Python Basics"
   ]
  },
  {
   "cell_type": "markdown",
   "id": "8295e21b-69d6-4fe9-a108-e4706281d1a3",
   "metadata": {},
   "source": [
    "# Comments\n",
    "Create a comment that Week 1 Lecture Python Basics\n",
    "\n"
   ]
  },
  {
   "cell_type": "code",
   "execution_count": null,
   "id": "58b255a0-7a91-40b2-8fc2-9d0df0e294ed",
   "metadata": {},
   "outputs": [],
   "source": []
  },
  {
   "cell_type": "markdown",
   "id": "aa9a4eac-dfe0-430e-a60b-132142ad28dd",
   "metadata": {},
   "source": [
    "# Numeric calculations\n",
    "Perform the following arighmetic operations one in different code cell below\n",
    "- 5 + 15\n",
    "- 19 * 3\n",
    "- 91/7\n",
    "- 59//2\n",
    "- 45 % 6\n",
    "- 11**4"
   ]
  },
  {
   "cell_type": "code",
   "execution_count": null,
   "id": "7d7f2977-14c3-49da-a68a-17ab957458eb",
   "metadata": {},
   "outputs": [],
   "source": []
  },
  {
   "cell_type": "code",
   "execution_count": null,
   "id": "00f2f317-f359-4225-bba4-b24c21db1a56",
   "metadata": {},
   "outputs": [],
   "source": []
  },
  {
   "cell_type": "code",
   "execution_count": null,
   "id": "ddddc47e-1fe1-4ea6-8377-6e19e83ad40d",
   "metadata": {},
   "outputs": [],
   "source": []
  },
  {
   "cell_type": "code",
   "execution_count": null,
   "id": "4e29b0ad-1526-4d1f-8a13-5e522eba345e",
   "metadata": {},
   "outputs": [],
   "source": []
  },
  {
   "cell_type": "code",
   "execution_count": null,
   "id": "b0386898-93f5-4cad-8bf9-e41bc97f8a2e",
   "metadata": {},
   "outputs": [],
   "source": []
  },
  {
   "cell_type": "code",
   "execution_count": null,
   "id": "01cbb977-3893-46a2-854c-7dc1bb1b4a66",
   "metadata": {},
   "outputs": [],
   "source": []
  },
  {
   "cell_type": "code",
   "execution_count": null,
   "id": "7cb5d7b7-3aa2-46c7-b8f1-1d9b6cdab004",
   "metadata": {},
   "outputs": [],
   "source": []
  },
  {
   "cell_type": "markdown",
   "id": "e6b3ebbf-9668-4514-a092-587fcb1817b8",
   "metadata": {},
   "source": [
    "# Variables\n",
    "\n",
    "Variables are storage bins to store numbers, strings and other data structures.  Variables must start with a letter or underscore.  It can have alphanumeric values but not special characters. The Python keywords are\n",
    "**in and as assert break class continue def del elif else except False True finally for from global if import lambda\n",
    "None nonlocal not or pass raise return try while with yield**\n",
    "\n",
    "Is minutes a valid Python variable?"
   ]
  },
  {
   "cell_type": "code",
   "execution_count": null,
   "id": "5d49e373-593b-478f-8381-b4b6560def05",
   "metadata": {},
   "outputs": [],
   "source": []
  },
  {
   "cell_type": "markdown",
   "id": "8e727457-2d31-438c-ba95-7c2e362021bc",
   "metadata": {},
   "source": [
    "Is north a valid Python variable?"
   ]
  },
  {
   "cell_type": "code",
   "execution_count": null,
   "id": "665fbf74-20a1-496f-80cf-64d72a52a74d",
   "metadata": {},
   "outputs": [],
   "source": []
  },
  {
   "cell_type": "markdown",
   "id": "a7234240-43b3-4cfe-950c-9b4e4b1d0065",
   "metadata": {},
   "source": [
    "Is in a valid Python variable?"
   ]
  },
  {
   "cell_type": "code",
   "execution_count": null,
   "id": "6b333a7b-8587-4b73-a98c-cc8e53ed8b34",
   "metadata": {},
   "outputs": [],
   "source": []
  },
  {
   "cell_type": "markdown",
   "id": "f09071bf-42fe-404d-9500-757d62d31767",
   "metadata": {},
   "source": [
    "Is 57t a valid Python variable?"
   ]
  },
  {
   "cell_type": "code",
   "execution_count": null,
   "id": "2951d277-c5d6-43a1-9c51-9bacc7f213d1",
   "metadata": {},
   "outputs": [],
   "source": []
  },
  {
   "cell_type": "markdown",
   "id": "85c03bf8-9ce8-4bd4-94da-f9e9d89b8da6",
   "metadata": {},
   "source": [
    "Is no* a valid Pyton variable?"
   ]
  },
  {
   "cell_type": "code",
   "execution_count": null,
   "id": "80e1bd97-4275-4c56-ac93-a201137c00f6",
   "metadata": {},
   "outputs": [],
   "source": []
  },
  {
   "cell_type": "markdown",
   "id": "f45da131-aa69-46de-b2bb-b106f870122d",
   "metadata": {},
   "source": [
    "# Numeric calculations using variables\n",
    "In a code cell\n",
    "- Assign 9 to A\n",
    "- Assign 17 to B\n",
    "- Add A and B\n",
    "- Subtract B from A\n",
    "- Multiply A and B\n",
    "- Divide A by B\n",
    "- Raise A to the B power\n"
   ]
  },
  {
   "cell_type": "code",
   "execution_count": null,
   "id": "71919e7b-ae6a-4fa7-8eb8-c114b9b673cd",
   "metadata": {},
   "outputs": [],
   "source": []
  },
  {
   "cell_type": "code",
   "execution_count": null,
   "id": "dd217053-15b8-4935-bf89-2819c926b292",
   "metadata": {},
   "outputs": [],
   "source": []
  },
  {
   "cell_type": "code",
   "execution_count": null,
   "id": "b95937fb-ec8d-468f-80f5-f930312a3689",
   "metadata": {},
   "outputs": [],
   "source": []
  },
  {
   "cell_type": "code",
   "execution_count": null,
   "id": "6053b47e-5d47-43e5-b4ac-46306bfab224",
   "metadata": {},
   "outputs": [],
   "source": []
  },
  {
   "cell_type": "code",
   "execution_count": null,
   "id": "a5b9491f-35e3-4680-9e60-bd75dbc6ed45",
   "metadata": {},
   "outputs": [],
   "source": []
  },
  {
   "cell_type": "code",
   "execution_count": null,
   "id": "978844da-95f4-49f9-ad38-454b802c529b",
   "metadata": {},
   "outputs": [],
   "source": []
  },
  {
   "cell_type": "code",
   "execution_count": null,
   "id": "4f0b2e5c-dfbc-4d27-bb97-e0d1bda8dd7d",
   "metadata": {},
   "outputs": [],
   "source": []
  },
  {
   "cell_type": "markdown",
   "id": "58fd2bab-fecc-4f0b-b8a5-f40e7a3ae550",
   "metadata": {},
   "source": [
    "# Print function\n",
    "In each code cell below \n",
    "- Assign \"JoEllen\" to a variable called myName\n",
    "- Write the Python command to print out 'Hello Sloan, are you having a good day!' using the f-string\n"
   ]
  },
  {
   "cell_type": "code",
   "execution_count": null,
   "id": "7393663e-87b5-483e-b513-65f493e5d6d1",
   "metadata": {},
   "outputs": [],
   "source": [
    "# assign a variable name myName\n"
   ]
  },
  {
   "cell_type": "code",
   "execution_count": null,
   "id": "bcba67d8-e8f6-499e-a186-1fe2cdeec973",
   "metadata": {},
   "outputs": [],
   "source": [
    "# print out myName\n"
   ]
  },
  {
   "cell_type": "code",
   "execution_count": null,
   "id": "0d569b68-9360-4d55-93d1-3d143b028b83",
   "metadata": {},
   "outputs": [],
   "source": [
    "# print out formatted string using f-string\n"
   ]
  },
  {
   "cell_type": "code",
   "execution_count": null,
   "id": "751b7a52-1c6c-40c5-9bde-dfe840f49786",
   "metadata": {},
   "outputs": [],
   "source": []
  },
  {
   "cell_type": "markdown",
   "id": "d720f3d3-8291-4510-9bc5-2ad18c69aff0",
   "metadata": {},
   "source": [
    "Lists\n",
    "Create a code cell and enter the command to create a list with the following information.  Use the Values for the elements of the list.\n",
    "| English | 1st | 2nd  | 3rd | 4th | 5th | 6th | 7th | 8th |\n",
    "| ----------- | ----------- | ----------- | ----------- | ----------- | ----------- | ----------- | ----------- | ---------|\n",
    "| Values | 14 | 23 | 66 | 68 | 77 | 80 | 85 | 59 |\n",
    "| Indexes | 0 | 1 | 2 | 3 | 4 | 5 | 6 | 7|"
   ]
  },
  {
   "cell_type": "code",
   "execution_count": null,
   "id": "823ae13b-2c47-4d94-870c-211238ffd0bb",
   "metadata": {},
   "outputs": [],
   "source": []
  },
  {
   "cell_type": "markdown",
   "id": "d6f2dd37-9d45-495c-bf57-a5670cfb3201",
   "metadata": {},
   "source": [
    "##### Enter the command to find the 5th element in the list."
   ]
  },
  {
   "cell_type": "code",
   "execution_count": null,
   "id": "280dbf36-720e-48fd-83d1-f1f39b861afe",
   "metadata": {},
   "outputs": [],
   "source": []
  },
  {
   "cell_type": "markdown",
   "id": "202ee054-f437-4d86-a734-506933ecdd65",
   "metadata": {},
   "source": [
    "Use the list command to find the 2nd thru 5th elements"
   ]
  },
  {
   "cell_type": "code",
   "execution_count": null,
   "id": "a7b17176-2aa1-4582-85a9-c3dce11652b7",
   "metadata": {},
   "outputs": [],
   "source": []
  },
  {
   "cell_type": "markdown",
   "id": "fa843440-484d-4c1d-a8ee-909bf3a0ded5",
   "metadata": {},
   "source": [
    "Use the list command to find the 3rd to the end of the list"
   ]
  },
  {
   "cell_type": "code",
   "execution_count": null,
   "id": "25c0fe54-9f56-4beb-a981-fc84e47d9fac",
   "metadata": {},
   "outputs": [],
   "source": []
  },
  {
   "cell_type": "markdown",
   "id": "2c14c9f2-f6e6-4217-8a77-e0164f080982",
   "metadata": {},
   "source": [
    "Use the list command to find the 1st to the 3rd items in the list."
   ]
  },
  {
   "cell_type": "code",
   "execution_count": null,
   "id": "6a77cb03-e66b-409e-8524-b0c20b83347a",
   "metadata": {},
   "outputs": [],
   "source": []
  },
  {
   "cell_type": "markdown",
   "id": "c45c2038-4b3b-43c3-8546-87eedad5e47c",
   "metadata": {},
   "source": [
    "# if statements\n",
    "- Assign 33 to x\n",
    "- Write an if statement to determine if x is less than 45.  If it is, print Younger than 45.\n",
    "- Write an else statement to print out Age 45 or older."
   ]
  },
  {
   "cell_type": "code",
   "execution_count": null,
   "id": "9d10e513-9585-469e-91b5-49c0a08a3eec",
   "metadata": {},
   "outputs": [],
   "source": []
  },
  {
   "cell_type": "markdown",
   "id": "7b9825e9-39cf-4b8e-8f0c-e248ae8ba60e",
   "metadata": {},
   "source": [
    "- Assign 22 to y\n",
    "- If y less than 10 print out Minor\n",
    "- elif y < 21, print out You can vote but not drink\n",
    "- elif y < 43, print out You are a young adult.\n",
    "- elif y < 59, print out You are part of Generation X\n",
    "- else print out age 59 or older.\n",
    "\n"
   ]
  },
  {
   "cell_type": "code",
   "execution_count": null,
   "id": "8970dce3-918f-4c7f-a72d-4ff1a28063ef",
   "metadata": {},
   "outputs": [],
   "source": []
  },
  {
   "cell_type": "markdown",
   "id": "7b6d5e6c-5d62-4b75-af9e-7542607587d1",
   "metadata": {},
   "source": [
    "# Functions\n",
    "type in the following code in the code cell below.  Then call the function.<br>\n",
    "```\n",
    "def greetings():<br>\n",
    "    return print(\"Greetings friend!\")\n",
    "```\n",
    "\n"
   ]
  },
  {
   "cell_type": "code",
   "execution_count": null,
   "id": "ddbf9ca0-62e3-442a-937e-65b4b40d77a9",
   "metadata": {},
   "outputs": [],
   "source": []
  },
  {
   "cell_type": "code",
   "execution_count": null,
   "id": "1f167aed-032d-48ee-a95f-5abac3b95773",
   "metadata": {},
   "outputs": [],
   "source": []
  },
  {
   "cell_type": "markdown",
   "id": "1adaa941-6b2a-4011-a36a-cfc24c9fd35d",
   "metadata": {},
   "source": [
    "\n",
    "Type in the code in the cell below and set name equal to your name.  Then call the function.<br>\n",
    "\n",
    "```\n",
    "def greet_someone(name):\n",
    "    return print(f\"Greetings {name}!\")\n",
    "```"
   ]
  },
  {
   "cell_type": "code",
   "execution_count": null,
   "id": "9209ebda-73ef-46d9-b88a-817877d31a16",
   "metadata": {},
   "outputs": [],
   "source": []
  },
  {
   "cell_type": "code",
   "execution_count": null,
   "id": "fb77c921-8d68-4ebd-98db-3d6b34d72d89",
   "metadata": {},
   "outputs": [],
   "source": []
  },
  {
   "cell_type": "code",
   "execution_count": null,
   "id": "6ed1df7c-ca34-480f-ba1b-eb4432a08da4",
   "metadata": {},
   "outputs": [],
   "source": []
  },
  {
   "cell_type": "markdown",
   "id": "303bce63-6f09-4754-961d-9ffa5f6780c4",
   "metadata": {},
   "source": [
    "Set the hours = 160 and the pay_rate = 22.50.  Then type the functionin a code cell in your Jupyter\n",
    "Notebook and run the code.<br>\n",
    "```\n",
    "import numpy as np\n",
    "\n",
    "def check_amount(hours, pay_rate):\n",
    "    return np.round(hours * pay_rate, 2)\n",
    "    \n",
    "```"
   ]
  },
  {
   "cell_type": "code",
   "execution_count": null,
   "id": "12969303-38f1-48e9-8ab9-686fde29cbe6",
   "metadata": {},
   "outputs": [],
   "source": [
    "\n",
    "    "
   ]
  },
  {
   "cell_type": "code",
   "execution_count": null,
   "id": "62174462-13e5-4295-a2fe-3c78aa0f3de8",
   "metadata": {},
   "outputs": [],
   "source": []
  },
  {
   "cell_type": "markdown",
   "id": "73bc00ce-7b7d-447f-9c6a-9d430b1f8c86",
   "metadata": {},
   "source": [
    "# Dictionaries\n",
    "Enter the Dictionary commands in the Code cell below.\n",
    "```\n",
    "states = {\"CA\":[\"California\", 39538223], \"NM\": [\"New Mexico\", 2117522], \"AZ\":[\"Arizona\",7151502] , \"NV\":[\"Nevada\", 3104614], \"UT\":[\"Utah\", 3271616], \"OR\":[\"Oregon\", 4237256 ]}\n",
    "```\n",
    "Enter the code to get population for \"Arizona\""
   ]
  },
  {
   "cell_type": "code",
   "execution_count": null,
   "id": "d65dc95f-7d5e-4ba5-8473-d7a805c289c4",
   "metadata": {},
   "outputs": [],
   "source": []
  },
  {
   "cell_type": "code",
   "execution_count": null,
   "id": "b55a9e84-fcca-48d1-969e-ffdb1a48dd2d",
   "metadata": {},
   "outputs": [],
   "source": []
  },
  {
   "cell_type": "markdown",
   "id": "ff38496a-1927-43e2-a667-3820f7e6445f",
   "metadata": {},
   "source": [
    " "
   ]
  },
  {
   "cell_type": "code",
   "execution_count": null,
   "id": "3ab3aad1-1c56-4145-918f-a9cd07af006a",
   "metadata": {},
   "outputs": [],
   "source": []
  },
  {
   "cell_type": "markdown",
   "id": "5216f24d-78ce-4d94-a077-bde014e6a5b8",
   "metadata": {},
   "source": [
    "Enter the command for the population of New Mexico."
   ]
  },
  {
   "cell_type": "code",
   "execution_count": null,
   "id": "438714a6-de4a-4a73-bd42-a13a4de6a3ec",
   "metadata": {},
   "outputs": [],
   "source": []
  },
  {
   "cell_type": "code",
   "execution_count": null,
   "id": "c1e59b23-997b-46d7-b255-ed76985f03c0",
   "metadata": {},
   "outputs": [],
   "source": []
  }
 ],
 "metadata": {
  "kernelspec": {
   "display_name": "Python 3 (ipykernel)",
   "language": "python",
   "name": "python3"
  },
  "language_info": {
   "codemirror_mode": {
    "name": "ipython",
    "version": 3
   },
   "file_extension": ".py",
   "mimetype": "text/x-python",
   "name": "python",
   "nbconvert_exporter": "python",
   "pygments_lexer": "ipython3",
   "version": "3.10.11"
  }
 },
 "nbformat": 4,
 "nbformat_minor": 5
}
